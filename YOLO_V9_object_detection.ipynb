{
 "cells": [
  {
   "cell_type": "code",
   "execution_count": 1,
   "id": "04969552",
   "metadata": {},
   "outputs": [
    {
     "name": "stdout",
     "output_type": "stream",
     "text": [
      "Requirement already satisfied: ultralytics in a:\\research\\brain_tumor\\tumor\\lib\\site-packages (8.2.0)\n",
      "Requirement already satisfied: matplotlib>=3.3.0 in a:\\research\\brain_tumor\\tumor\\lib\\site-packages (from ultralytics) (3.8.4)\n",
      "Requirement already satisfied: opencv-python>=4.6.0 in a:\\research\\brain_tumor\\tumor\\lib\\site-packages (from ultralytics) (4.9.0.80)\n",
      "Requirement already satisfied: pillow>=7.1.2 in a:\\research\\brain_tumor\\tumor\\lib\\site-packages (from ultralytics) (10.3.0)\n",
      "Requirement already satisfied: pyyaml>=5.3.1 in a:\\research\\brain_tumor\\tumor\\lib\\site-packages (from ultralytics) (6.0.1)\n",
      "Requirement already satisfied: requests>=2.23.0 in a:\\research\\brain_tumor\\tumor\\lib\\site-packages (from ultralytics) (2.31.0)\n",
      "Requirement already satisfied: scipy>=1.4.1 in a:\\research\\brain_tumor\\tumor\\lib\\site-packages (from ultralytics) (1.13.0)\n",
      "Requirement already satisfied: torch>=1.8.0 in a:\\research\\brain_tumor\\tumor\\lib\\site-packages (from ultralytics) (2.2.2)\n",
      "Requirement already satisfied: torchvision>=0.9.0 in a:\\research\\brain_tumor\\tumor\\lib\\site-packages (from ultralytics) (0.17.2)\n",
      "Requirement already satisfied: tqdm>=4.64.0 in a:\\research\\brain_tumor\\tumor\\lib\\site-packages (from ultralytics) (4.66.2)\n",
      "Requirement already satisfied: psutil in a:\\research\\brain_tumor\\tumor\\lib\\site-packages (from ultralytics) (5.9.8)\n",
      "Requirement already satisfied: py-cpuinfo in a:\\research\\brain_tumor\\tumor\\lib\\site-packages (from ultralytics) (9.0.0)\n",
      "Requirement already satisfied: thop>=0.1.1 in a:\\research\\brain_tumor\\tumor\\lib\\site-packages (from ultralytics) (0.1.1.post2209072238)\n",
      "Requirement already satisfied: pandas>=1.1.4 in a:\\research\\brain_tumor\\tumor\\lib\\site-packages (from ultralytics) (2.2.2)\n",
      "Requirement already satisfied: seaborn>=0.11.0 in a:\\research\\brain_tumor\\tumor\\lib\\site-packages (from ultralytics) (0.13.2)\n",
      "Requirement already satisfied: contourpy>=1.0.1 in a:\\research\\brain_tumor\\tumor\\lib\\site-packages (from matplotlib>=3.3.0->ultralytics) (1.2.1)\n",
      "Requirement already satisfied: cycler>=0.10 in a:\\research\\brain_tumor\\tumor\\lib\\site-packages (from matplotlib>=3.3.0->ultralytics) (0.12.1)\n",
      "Requirement already satisfied: fonttools>=4.22.0 in a:\\research\\brain_tumor\\tumor\\lib\\site-packages (from matplotlib>=3.3.0->ultralytics) (4.51.0)\n",
      "Requirement already satisfied: kiwisolver>=1.3.1 in a:\\research\\brain_tumor\\tumor\\lib\\site-packages (from matplotlib>=3.3.0->ultralytics) (1.4.5)\n",
      "Requirement already satisfied: numpy>=1.21 in a:\\research\\brain_tumor\\tumor\\lib\\site-packages (from matplotlib>=3.3.0->ultralytics) (1.26.4)\n",
      "Requirement already satisfied: packaging>=20.0 in a:\\research\\brain_tumor\\tumor\\lib\\site-packages (from matplotlib>=3.3.0->ultralytics) (24.0)\n",
      "Requirement already satisfied: pyparsing>=2.3.1 in a:\\research\\brain_tumor\\tumor\\lib\\site-packages (from matplotlib>=3.3.0->ultralytics) (3.1.2)\n",
      "Requirement already satisfied: python-dateutil>=2.7 in a:\\research\\brain_tumor\\tumor\\lib\\site-packages (from matplotlib>=3.3.0->ultralytics) (2.9.0.post0)\n",
      "Requirement already satisfied: pytz>=2020.1 in a:\\research\\brain_tumor\\tumor\\lib\\site-packages (from pandas>=1.1.4->ultralytics) (2024.1)\n",
      "Requirement already satisfied: tzdata>=2022.7 in a:\\research\\brain_tumor\\tumor\\lib\\site-packages (from pandas>=1.1.4->ultralytics) (2024.1)\n",
      "Requirement already satisfied: charset-normalizer<4,>=2 in a:\\research\\brain_tumor\\tumor\\lib\\site-packages (from requests>=2.23.0->ultralytics) (3.3.2)\n",
      "Requirement already satisfied: idna<4,>=2.5 in a:\\research\\brain_tumor\\tumor\\lib\\site-packages (from requests>=2.23.0->ultralytics) (3.7)\n",
      "Requirement already satisfied: urllib3<3,>=1.21.1 in a:\\research\\brain_tumor\\tumor\\lib\\site-packages (from requests>=2.23.0->ultralytics) (2.2.1)\n",
      "Requirement already satisfied: certifi>=2017.4.17 in a:\\research\\brain_tumor\\tumor\\lib\\site-packages (from requests>=2.23.0->ultralytics) (2024.2.2)\n",
      "Requirement already satisfied: filelock in a:\\research\\brain_tumor\\tumor\\lib\\site-packages (from torch>=1.8.0->ultralytics) (3.13.4)\n",
      "Requirement already satisfied: typing-extensions>=4.8.0 in a:\\research\\brain_tumor\\tumor\\lib\\site-packages (from torch>=1.8.0->ultralytics) (4.11.0)\n",
      "Requirement already satisfied: sympy in a:\\research\\brain_tumor\\tumor\\lib\\site-packages (from torch>=1.8.0->ultralytics) (1.12)\n",
      "Requirement already satisfied: networkx in a:\\research\\brain_tumor\\tumor\\lib\\site-packages (from torch>=1.8.0->ultralytics) (3.3)\n",
      "Requirement already satisfied: jinja2 in a:\\research\\brain_tumor\\tumor\\lib\\site-packages (from torch>=1.8.0->ultralytics) (3.1.3)\n",
      "Requirement already satisfied: fsspec in a:\\research\\brain_tumor\\tumor\\lib\\site-packages (from torch>=1.8.0->ultralytics) (2024.3.1)\n",
      "Requirement already satisfied: colorama in a:\\research\\brain_tumor\\tumor\\lib\\site-packages (from tqdm>=4.64.0->ultralytics) (0.4.6)\n",
      "Requirement already satisfied: six>=1.5 in a:\\research\\brain_tumor\\tumor\\lib\\site-packages (from python-dateutil>=2.7->matplotlib>=3.3.0->ultralytics) (1.16.0)\n",
      "Requirement already satisfied: MarkupSafe>=2.0 in a:\\research\\brain_tumor\\tumor\\lib\\site-packages (from jinja2->torch>=1.8.0->ultralytics) (2.1.5)\n",
      "Requirement already satisfied: mpmath>=0.19 in a:\\research\\brain_tumor\\tumor\\lib\\site-packages (from sympy->torch>=1.8.0->ultralytics) (1.3.0)\n",
      "Note: you may need to restart the kernel to use updated packages.\n"
     ]
    }
   ],
   "source": [
    "pip install ultralytics"
   ]
  },
  {
   "cell_type": "code",
   "execution_count": 2,
   "id": "1f4226da",
   "metadata": {},
   "outputs": [
    {
     "name": "stdout",
     "output_type": "stream",
     "text": [
      "Requirement already satisfied: torch in a:\\research\\brain_tumor\\tumor\\lib\\site-packages (2.2.2)\n",
      "Requirement already satisfied: filelock in a:\\research\\brain_tumor\\tumor\\lib\\site-packages (from torch) (3.13.4)\n",
      "Requirement already satisfied: typing-extensions>=4.8.0 in a:\\research\\brain_tumor\\tumor\\lib\\site-packages (from torch) (4.11.0)\n",
      "Requirement already satisfied: sympy in a:\\research\\brain_tumor\\tumor\\lib\\site-packages (from torch) (1.12)\n",
      "Requirement already satisfied: networkx in a:\\research\\brain_tumor\\tumor\\lib\\site-packages (from torch) (3.3)\n",
      "Requirement already satisfied: jinja2 in a:\\research\\brain_tumor\\tumor\\lib\\site-packages (from torch) (3.1.3)\n",
      "Requirement already satisfied: fsspec in a:\\research\\brain_tumor\\tumor\\lib\\site-packages (from torch) (2024.3.1)\n",
      "Requirement already satisfied: MarkupSafe>=2.0 in a:\\research\\brain_tumor\\tumor\\lib\\site-packages (from jinja2->torch) (2.1.5)\n",
      "Requirement already satisfied: mpmath>=0.19 in a:\\research\\brain_tumor\\tumor\\lib\\site-packages (from sympy->torch) (1.3.0)\n",
      "Note: you may need to restart the kernel to use updated packages.\n"
     ]
    }
   ],
   "source": [
    "pip install torch"
   ]
  },
  {
   "cell_type": "code",
   "execution_count": 3,
   "id": "7eb7c89b",
   "metadata": {},
   "outputs": [],
   "source": [
    " import torch\n",
    " from torchvision import models\n",
    " import torchvision.transforms as T\n",
    " from PIL import Image\n",
    " import matplotlib.pyplot as plt"
   ]
  },
  {
   "cell_type": "code",
   "execution_count": 4,
   "id": "019d0061",
   "metadata": {},
   "outputs": [],
   "source": [
    "from ultralytics import YOLO"
   ]
  },
  {
   "cell_type": "code",
   "execution_count": 5,
   "id": "3a644e72",
   "metadata": {},
   "outputs": [],
   "source": [
    "import torch\n",
    "import cv2\n",
    "import numpy as np"
   ]
  },
  {
   "cell_type": "code",
   "execution_count": 6,
   "id": "d31bd068",
   "metadata": {},
   "outputs": [],
   "source": [
    "import os"
   ]
  },
  {
   "cell_type": "code",
   "execution_count": 7,
   "id": "9c54ac60",
   "metadata": {},
   "outputs": [
    {
     "data": {
      "text/plain": [
       "'A:\\\\research\\\\brain_tumor'"
      ]
     },
     "execution_count": 7,
     "metadata": {},
     "output_type": "execute_result"
    }
   ],
   "source": [
    "pwd"
   ]
  },
  {
   "cell_type": "code",
   "execution_count": 8,
   "id": "0dc4d43b",
   "metadata": {},
   "outputs": [],
   "source": [
    "#model_path = \"D:\\reva_hack\\model\\best.pt\""
   ]
  },
  {
   "cell_type": "code",
   "execution_count": 9,
   "id": "5fcf538c",
   "metadata": {},
   "outputs": [],
   "source": [
    "inference_=YOLO(\"best.pt\")\n",
    "#inference = torch.load(model_path)"
   ]
  },
  {
   "cell_type": "code",
   "execution_count": 10,
   "id": "fb094279",
   "metadata": {},
   "outputs": [
    {
     "name": "stdout",
     "output_type": "stream",
     "text": [
      "Requirement already satisfied: pillow in a:\\research\\brain_tumor\\tumor\\lib\\site-packages (10.3.0)\n",
      "Note: you may need to restart the kernel to use updated packages.\n"
     ]
    }
   ],
   "source": [
    "pip install pillow"
   ]
  },
  {
   "cell_type": "code",
   "execution_count": 11,
   "id": "b80039e3-f4de-40d4-975d-dc16a5ef2f8d",
   "metadata": {},
   "outputs": [],
   "source": [
    "import os\n",
    "img = os.path.join('archive','Testing', 'pituitary_tumor','image(15).jpg')"
   ]
  },
  {
   "cell_type": "code",
   "execution_count": 12,
   "id": "0b314bd5-a4d5-47e3-a513-a9f79773ac22",
   "metadata": {},
   "outputs": [
    {
     "name": "stdout",
     "output_type": "stream",
     "text": [
      "\n",
      "0: 640x640 1 pituitary, 12786.2ms\n",
      "Speed: 48.2ms preprocess, 12786.2ms inference, 125.3ms postprocess per image at shape (1, 3, 640, 640)\n"
     ]
    }
   ],
   "source": [
    "\n",
    "results =inference_([img])"
   ]
  },
  {
   "cell_type": "code",
   "execution_count": 13,
   "id": "4d92b383-cb99-45ec-b415-f7cee74c38fb",
   "metadata": {},
   "outputs": [],
   "source": [
    "for r in results:\n",
    "    im_array = r.plot()  # plot a BGR numpy array of predictions\n",
    "    im = Image.fromarray(im_array[..., ::-1])  # RGB PIL image\n",
    "    im.show()  # show image\n",
    "    im.save('results.jpg')"
   ]
  },
  {
   "cell_type": "code",
   "execution_count": 14,
   "id": "59404801-34b1-495a-bf9a-3f1fb4802f4a",
   "metadata": {},
   "outputs": [
    {
     "name": "stdout",
     "output_type": "stream",
     "text": [
      "\n",
      "image 1/1 A:\\research\\brain_tumor\\archive\\Testing\\pituitary_tumor\\image(15).jpg: 640x640 1 pituitary, 8142.7ms\n",
      "Speed: 20.2ms preprocess, 8142.7ms inference, 13.6ms postprocess per image at shape (1, 3, 640, 640)\n"
     ]
    }
   ],
   "source": [
    "results = inference_.predict(img, show=True)"
   ]
  },
  {
   "cell_type": "code",
   "execution_count": null,
   "id": "1c4f3c34-9f2e-41c9-84d7-018d87444d8f",
   "metadata": {},
   "outputs": [],
   "source": []
  }
 ],
 "metadata": {
  "kernelspec": {
   "display_name": "Python 3 (ipykernel)",
   "language": "python",
   "name": "python3"
  },
  "language_info": {
   "codemirror_mode": {
    "name": "ipython",
    "version": 3
   },
   "file_extension": ".py",
   "mimetype": "text/x-python",
   "name": "python",
   "nbconvert_exporter": "python",
   "pygments_lexer": "ipython3",
   "version": "3.10.6"
  }
 },
 "nbformat": 4,
 "nbformat_minor": 5
}
